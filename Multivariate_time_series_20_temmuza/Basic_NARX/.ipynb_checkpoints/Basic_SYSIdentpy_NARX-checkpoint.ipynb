{
 "cells": [
  {
   "cell_type": "code",
   "execution_count": 1,
   "id": "5faa39d6-5148-4668-9ecf-80b65d1a0d38",
   "metadata": {},
   "outputs": [],
   "source": [
    "from torch import nn\n",
    "from sysidentpy.metrics import mean_squared_error\n",
    "from sysidentpy.utils.generate_data import get_siso_data\n",
    "from sysidentpy.neural_network import NARXNN\n",
    "\n",
    "from sysidentpy.basis_function._basis_function import Polynomial, Fourier\n",
    "from sysidentpy.utils.generate_data import get_siso_data\n",
    "from sysidentpy.utils.plotting import plot_residues_correlation, plot_results\n",
    "from sysidentpy.residues.residues_correlation import (\n",
    "    compute_residues_autocorrelation,\n",
    "    compute_cross_correlation,\n",
    ")\n",
    "from sysidentpy.utils.narmax_tools import regressor_code\n",
    "import torch"
   ]
  },
  {
   "cell_type": "code",
   "execution_count": null,
   "id": "5fbb7a28-0829-46dc-92dd-f2c9f37ad6b6",
   "metadata": {},
   "outputs": [],
   "source": []
  }
 ],
 "metadata": {
  "kernelspec": {
   "display_name": "Python 3 (ipykernel)",
   "language": "python",
   "name": "python3"
  },
  "language_info": {
   "codemirror_mode": {
    "name": "ipython",
    "version": 3
   },
   "file_extension": ".py",
   "mimetype": "text/x-python",
   "name": "python",
   "nbconvert_exporter": "python",
   "pygments_lexer": "ipython3",
   "version": "3.11.7"
  }
 },
 "nbformat": 4,
 "nbformat_minor": 5
}
