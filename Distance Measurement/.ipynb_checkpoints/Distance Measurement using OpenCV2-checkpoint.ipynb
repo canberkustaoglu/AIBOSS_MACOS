{
 "cells": [
  {
   "cell_type": "code",
   "execution_count": 1,
   "id": "14f423a6",
   "metadata": {},
   "outputs": [],
   "source": [
    "import cv2\n",
    "\n",
    "\n",
    "Known_distance = 76.2\n",
    "Known_width = 14.3\n",
    "GREEN = (0, 255, 0)\n",
    "RED = (0, 0, 255)\n",
    "WHITE = (255, 255, 255)\n",
    "BLACK = (0, 0, 0)\n",
    "fonts = cv2.FONT_HERSHEY_COMPLEX\n",
    "face_detector = cv2.CascadeClassifier(cv2.data.haarcascades + \"haarcascade_frontalface_default.xml\")"
   ]
  },
  {
   "cell_type": "code",
   "execution_count": 2,
   "id": "ac454f94",
   "metadata": {},
   "outputs": [],
   "source": [
    "def Focal_Length_Finder(measured_distance, real_width, width_in_rf_image):\n",
    "    focal_length = (width_in_rf_image * measured_distance) / real_width\n",
    "    return focal_length\n",
    "\n",
    "def Distance_finder(Focal_Length, real_face_width, face_width_in_frame):\n",
    "    distance = (real_face_width * Focal_Length) / face_width_in_frame\n",
    "    return distance\n",
    "\n",
    "def face_data(image):\n",
    "    face_width = 0\n",
    "    gray_image = cv2.cvtColor(image, cv2.COLOR_BGR2GRAY)\n",
    "    faces = face_detector.detectMultiScale(gray_image, 1.3, 5)\n",
    "    for (x, y, h, w) in faces:\n",
    "        cv2.rectangle(image, (x, y), (x+w, y+h), GREEN, 2)\n",
    "        face_width = w\n",
    "    return face_width\n",
    "\n"
   ]
  },
  {
   "cell_type": "code",
   "execution_count": 3,
   "id": "47f51897",
   "metadata": {},
   "outputs": [
    {
     "name": "stdout",
     "output_type": "stream",
     "text": [
      "676.7412587412587\n"
     ]
    }
   ],
   "source": [
    "ref_image = cv2.imread(\"deneme1.jpeg\")\n",
    "\n",
    "if face_detector.empty():\n",
    "    print(\"Error: Unable to load the face cascade.\")\n",
    "    exit()\n",
    "\n",
    "if ref_image is None:\n",
    "    print(\"Error: Unable to load the reference image.\")\n",
    "    exit()\n",
    "\n",
    "ref_image_face_width = face_data(ref_image)\n",
    "Focal_length_found = Focal_Length_Finder(Known_distance, Known_width, ref_image_face_width)\n",
    "print(Focal_length_found)"
   ]
  },
  {
   "cell_type": "code",
   "execution_count": 4,
   "id": "adcd9131",
   "metadata": {},
   "outputs": [],
   "source": [
    "cap = cv2.VideoCapture(0)"
   ]
  },
  {
   "cell_type": "code",
   "execution_count": null,
   "id": "6216ac2a",
   "metadata": {},
   "outputs": [],
   "source": [
    "while True:\n",
    "    _, frame = cap.read()\n",
    "    face_width_in_frame = face_data(frame)\n",
    "\n",
    "    if face_width_in_frame != 0:\n",
    "        Distance = Distance_finder(Focal_length_found, Known_width, face_width_in_frame)\n",
    "        cv2.line(frame, (30, 30), (230, 30), RED, 32)\n",
    "        cv2.line(frame, (30, 30), (230, 30), BLACK, 28)\n",
    "        cv2.putText(frame, f\"Distance: {round(Distance, 2)} CM\", (30, 35), fonts, 0.6, GREEN, 2)\n",
    "\n",
    "    cv2.imshow(\"frame\", frame)\n",
    "    if cv2.waitKey(1) == ord(\"q\"):\n",
    "        break"
   ]
  },
  {
   "cell_type": "code",
   "execution_count": null,
   "id": "a99cc807",
   "metadata": {},
   "outputs": [],
   "source": [
    "cap.release()\n",
    "cv2.destroyAllWindows()"
   ]
  },
  {
   "cell_type": "code",
   "execution_count": null,
   "id": "4b2b7bf4",
   "metadata": {},
   "outputs": [],
   "source": []
  }
 ],
 "metadata": {
  "kernelspec": {
   "display_name": "Python 3 (ipykernel)",
   "language": "python",
   "name": "python3"
  },
  "language_info": {
   "codemirror_mode": {
    "name": "ipython",
    "version": 3
   },
   "file_extension": ".py",
   "mimetype": "text/x-python",
   "name": "python",
   "nbconvert_exporter": "python",
   "pygments_lexer": "ipython3",
   "version": "3.11.5"
  }
 },
 "nbformat": 4,
 "nbformat_minor": 5
}
