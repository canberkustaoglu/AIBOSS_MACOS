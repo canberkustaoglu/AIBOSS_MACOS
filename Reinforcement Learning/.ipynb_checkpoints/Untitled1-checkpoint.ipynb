{
 "cells": [
  {
   "cell_type": "code",
   "execution_count": 2,
   "id": "8f046412",
   "metadata": {},
   "outputs": [
    {
     "name": "stdout",
     "output_type": "stream",
     "text": [
      "Collecting stable_baselines3[extra]\n",
      "  Obtaining dependency information for stable_baselines3[extra] from https://files.pythonhosted.org/packages/1e/43/d4b83e644c7e42d90d76a1987fb98a2ab286a2b5593350210ca8efcc378e/stable_baselines3-2.2.1-py3-none-any.whl.metadata\n",
      "  Downloading stable_baselines3-2.2.1-py3-none-any.whl.metadata (5.0 kB)\n",
      "Collecting gymnasium<0.30,>=0.28.1 (from stable_baselines3[extra])\n",
      "  Obtaining dependency information for gymnasium<0.30,>=0.28.1 from https://files.pythonhosted.org/packages/a8/4d/3cbfd81ed84db450dbe73a89afcd8bc405273918415649ac6683356afe92/gymnasium-0.29.1-py3-none-any.whl.metadata\n",
      "  Downloading gymnasium-0.29.1-py3-none-any.whl.metadata (10 kB)\n",
      "Requirement already satisfied: numpy>=1.20 in /Users/canberkustaoglu/anaconda3/lib/python3.11/site-packages (from stable_baselines3[extra]) (1.24.3)\n",
      "Requirement already satisfied: torch>=1.13 in /Users/canberkustaoglu/anaconda3/lib/python3.11/site-packages (from stable_baselines3[extra]) (2.2.0)\n",
      "Requirement already satisfied: cloudpickle in /Users/canberkustaoglu/anaconda3/lib/python3.11/site-packages (from stable_baselines3[extra]) (2.2.1)\n",
      "Requirement already satisfied: pandas in /Users/canberkustaoglu/anaconda3/lib/python3.11/site-packages (from stable_baselines3[extra]) (2.0.3)\n",
      "Requirement already satisfied: matplotlib in /Users/canberkustaoglu/anaconda3/lib/python3.11/site-packages (from stable_baselines3[extra]) (3.7.2)\n",
      "Requirement already satisfied: opencv-python in /Users/canberkustaoglu/anaconda3/lib/python3.11/site-packages (from stable_baselines3[extra]) (4.9.0.80)\n",
      "Collecting pygame (from stable_baselines3[extra])\n",
      "  Obtaining dependency information for pygame from https://files.pythonhosted.org/packages/4d/84/5a03c47c76020c4f46354cf8c3f2d7926592c1ff9370f0ad91a3bb577b54/pygame-2.5.2-cp311-cp311-macosx_11_0_arm64.whl.metadata\n",
      "  Downloading pygame-2.5.2-cp311-cp311-macosx_11_0_arm64.whl.metadata (13 kB)\n",
      "Requirement already satisfied: tensorboard>=2.9.1 in /Users/canberkustaoglu/anaconda3/lib/python3.11/site-packages (from stable_baselines3[extra]) (2.15.1)\n",
      "Requirement already satisfied: psutil in /Users/canberkustaoglu/anaconda3/lib/python3.11/site-packages (from stable_baselines3[extra]) (5.9.0)\n",
      "Requirement already satisfied: tqdm in /Users/canberkustaoglu/anaconda3/lib/python3.11/site-packages (from stable_baselines3[extra]) (4.65.0)\n",
      "Collecting rich (from stable_baselines3[extra])\n",
      "  Obtaining dependency information for rich from https://files.pythonhosted.org/packages/be/be/1520178fa01eabe014b16e72a952b9f900631142ccd03dc36cf93e30c1ce/rich-13.7.0-py3-none-any.whl.metadata\n",
      "  Downloading rich-13.7.0-py3-none-any.whl.metadata (18 kB)\n",
      "Collecting shimmy[atari]~=1.3.0 (from stable_baselines3[extra])\n",
      "  Obtaining dependency information for shimmy[atari]~=1.3.0 from https://files.pythonhosted.org/packages/dc/f9/07ef16463db14ac1b30f149c379760f5cacf3fc677b295d29a92f3127914/Shimmy-1.3.0-py3-none-any.whl.metadata\n",
      "  Downloading Shimmy-1.3.0-py3-none-any.whl.metadata (3.7 kB)\n",
      "Requirement already satisfied: pillow in /Users/canberkustaoglu/anaconda3/lib/python3.11/site-packages (from stable_baselines3[extra]) (10.0.1)\n",
      "Collecting autorom[accept-rom-license]~=0.6.1 (from stable_baselines3[extra])\n",
      "  Obtaining dependency information for autorom[accept-rom-license]~=0.6.1 from https://files.pythonhosted.org/packages/02/e1/90b168a5dbc89a4e9b2206a99238f3ea3fc281052bb2dc236d4aa15e5e87/AutoROM-0.6.1-py3-none-any.whl.metadata\n",
      "  Downloading AutoROM-0.6.1-py3-none-any.whl.metadata (2.4 kB)\n",
      "Requirement already satisfied: click in /Users/canberkustaoglu/anaconda3/lib/python3.11/site-packages (from autorom[accept-rom-license]~=0.6.1->stable_baselines3[extra]) (8.0.4)\n",
      "Requirement already satisfied: requests in /Users/canberkustaoglu/anaconda3/lib/python3.11/site-packages (from autorom[accept-rom-license]~=0.6.1->stable_baselines3[extra]) (2.31.0)\n",
      "Collecting AutoROM.accept-rom-license (from autorom[accept-rom-license]~=0.6.1->stable_baselines3[extra])\n",
      "  Downloading AutoROM.accept-rom-license-0.6.1.tar.gz (434 kB)\n",
      "\u001b[2K     \u001b[90m━━━━━━━━━━━━━━━━━━━━━━━━━━━━━━━━━━━━━━━\u001b[0m \u001b[32m434.7/434.7 kB\u001b[0m \u001b[31m1.6 MB/s\u001b[0m eta \u001b[36m0:00:00\u001b[0ma \u001b[36m0:00:01\u001b[0m\n",
      "\u001b[?25h  Installing build dependencies ... \u001b[?25ldone\n",
      "\u001b[?25h  Getting requirements to build wheel ... \u001b[?25ldone\n",
      "\u001b[?25h  Preparing metadata (pyproject.toml) ... \u001b[?25ldone\n",
      "\u001b[?25hRequirement already satisfied: typing-extensions>=4.3.0 in /Users/canberkustaoglu/anaconda3/lib/python3.11/site-packages (from gymnasium<0.30,>=0.28.1->stable_baselines3[extra]) (4.9.0)\n",
      "Collecting farama-notifications>=0.0.1 (from gymnasium<0.30,>=0.28.1->stable_baselines3[extra])\n",
      "  Obtaining dependency information for farama-notifications>=0.0.1 from https://files.pythonhosted.org/packages/05/2c/ffc08c54c05cdce6fbed2aeebc46348dbe180c6d2c541c7af7ba0aa5f5f8/Farama_Notifications-0.0.4-py3-none-any.whl.metadata\n",
      "  Using cached Farama_Notifications-0.0.4-py3-none-any.whl.metadata (558 bytes)\n",
      "Collecting ale-py~=0.8.1 (from shimmy[atari]~=1.3.0->stable_baselines3[extra])\n",
      "  Obtaining dependency information for ale-py~=0.8.1 from https://files.pythonhosted.org/packages/67/3f/3f53173019d153c07025f0387cce61e2d6bccd3d82cdbffb98402388c4bc/ale_py-0.8.1-cp311-cp311-macosx_11_0_arm64.whl.metadata\n",
      "  Downloading ale_py-0.8.1-cp311-cp311-macosx_11_0_arm64.whl.metadata (8.1 kB)\n",
      "Requirement already satisfied: absl-py>=0.4 in /Users/canberkustaoglu/anaconda3/lib/python3.11/site-packages (from tensorboard>=2.9.1->stable_baselines3[extra]) (2.1.0)\n",
      "Requirement already satisfied: grpcio>=1.48.2 in /Users/canberkustaoglu/anaconda3/lib/python3.11/site-packages (from tensorboard>=2.9.1->stable_baselines3[extra]) (1.60.1)\n",
      "Requirement already satisfied: google-auth<3,>=1.6.3 in /Users/canberkustaoglu/anaconda3/lib/python3.11/site-packages (from tensorboard>=2.9.1->stable_baselines3[extra]) (2.27.0)\n",
      "Requirement already satisfied: google-auth-oauthlib<2,>=0.5 in /Users/canberkustaoglu/anaconda3/lib/python3.11/site-packages (from tensorboard>=2.9.1->stable_baselines3[extra]) (1.2.0)\n",
      "Requirement already satisfied: markdown>=2.6.8 in /Users/canberkustaoglu/anaconda3/lib/python3.11/site-packages (from tensorboard>=2.9.1->stable_baselines3[extra]) (3.4.1)\n",
      "Requirement already satisfied: protobuf<4.24,>=3.19.6 in /Users/canberkustaoglu/anaconda3/lib/python3.11/site-packages (from tensorboard>=2.9.1->stable_baselines3[extra]) (4.23.4)\n",
      "Requirement already satisfied: setuptools>=41.0.0 in /Users/canberkustaoglu/anaconda3/lib/python3.11/site-packages (from tensorboard>=2.9.1->stable_baselines3[extra]) (68.0.0)\n",
      "Requirement already satisfied: six>1.9 in /Users/canberkustaoglu/anaconda3/lib/python3.11/site-packages (from tensorboard>=2.9.1->stable_baselines3[extra]) (1.16.0)\n",
      "Requirement already satisfied: tensorboard-data-server<0.8.0,>=0.7.0 in /Users/canberkustaoglu/anaconda3/lib/python3.11/site-packages (from tensorboard>=2.9.1->stable_baselines3[extra]) (0.7.2)\n",
      "Requirement already satisfied: werkzeug>=1.0.1 in /Users/canberkustaoglu/anaconda3/lib/python3.11/site-packages (from tensorboard>=2.9.1->stable_baselines3[extra]) (2.2.3)\n",
      "Requirement already satisfied: filelock in /Users/canberkustaoglu/anaconda3/lib/python3.11/site-packages (from torch>=1.13->stable_baselines3[extra]) (3.9.0)\n",
      "Requirement already satisfied: sympy in /Users/canberkustaoglu/anaconda3/lib/python3.11/site-packages (from torch>=1.13->stable_baselines3[extra]) (1.11.1)\n",
      "Requirement already satisfied: networkx in /Users/canberkustaoglu/anaconda3/lib/python3.11/site-packages (from torch>=1.13->stable_baselines3[extra]) (3.1)\n",
      "Requirement already satisfied: jinja2 in /Users/canberkustaoglu/anaconda3/lib/python3.11/site-packages (from torch>=1.13->stable_baselines3[extra]) (3.1.2)\n",
      "Requirement already satisfied: fsspec in /Users/canberkustaoglu/anaconda3/lib/python3.11/site-packages (from torch>=1.13->stable_baselines3[extra]) (2024.2.0)\n",
      "Requirement already satisfied: contourpy>=1.0.1 in /Users/canberkustaoglu/anaconda3/lib/python3.11/site-packages (from matplotlib->stable_baselines3[extra]) (1.0.5)\n",
      "Requirement already satisfied: cycler>=0.10 in /Users/canberkustaoglu/anaconda3/lib/python3.11/site-packages (from matplotlib->stable_baselines3[extra]) (0.11.0)\n",
      "Requirement already satisfied: fonttools>=4.22.0 in /Users/canberkustaoglu/anaconda3/lib/python3.11/site-packages (from matplotlib->stable_baselines3[extra]) (4.25.0)\n",
      "Requirement already satisfied: kiwisolver>=1.0.1 in /Users/canberkustaoglu/anaconda3/lib/python3.11/site-packages (from matplotlib->stable_baselines3[extra]) (1.4.4)\n",
      "Requirement already satisfied: packaging>=20.0 in /Users/canberkustaoglu/anaconda3/lib/python3.11/site-packages (from matplotlib->stable_baselines3[extra]) (23.1)\n",
      "Requirement already satisfied: pyparsing<3.1,>=2.3.1 in /Users/canberkustaoglu/anaconda3/lib/python3.11/site-packages (from matplotlib->stable_baselines3[extra]) (3.0.9)\n",
      "Requirement already satisfied: python-dateutil>=2.7 in /Users/canberkustaoglu/anaconda3/lib/python3.11/site-packages (from matplotlib->stable_baselines3[extra]) (2.8.2)\n"
     ]
    },
    {
     "name": "stdout",
     "output_type": "stream",
     "text": [
      "Requirement already satisfied: pytz>=2020.1 in /Users/canberkustaoglu/anaconda3/lib/python3.11/site-packages (from pandas->stable_baselines3[extra]) (2023.3.post1)\n",
      "Requirement already satisfied: tzdata>=2022.1 in /Users/canberkustaoglu/anaconda3/lib/python3.11/site-packages (from pandas->stable_baselines3[extra]) (2023.3)\n",
      "Requirement already satisfied: markdown-it-py>=2.2.0 in /Users/canberkustaoglu/anaconda3/lib/python3.11/site-packages (from rich->stable_baselines3[extra]) (2.2.0)\n",
      "Requirement already satisfied: pygments<3.0.0,>=2.13.0 in /Users/canberkustaoglu/anaconda3/lib/python3.11/site-packages (from rich->stable_baselines3[extra]) (2.15.1)\n",
      "Collecting importlib-resources (from ale-py~=0.8.1->shimmy[atari]~=1.3.0->stable_baselines3[extra])\n",
      "  Obtaining dependency information for importlib-resources from https://files.pythonhosted.org/packages/93/e8/facde510585869b5ec694e8e0363ffe4eba067cb357a8398a55f6a1f8023/importlib_resources-6.1.1-py3-none-any.whl.metadata\n",
      "  Downloading importlib_resources-6.1.1-py3-none-any.whl.metadata (4.1 kB)\n",
      "Requirement already satisfied: cachetools<6.0,>=2.0.0 in /Users/canberkustaoglu/anaconda3/lib/python3.11/site-packages (from google-auth<3,>=1.6.3->tensorboard>=2.9.1->stable_baselines3[extra]) (5.3.2)\n",
      "Requirement already satisfied: pyasn1-modules>=0.2.1 in /Users/canberkustaoglu/anaconda3/lib/python3.11/site-packages (from google-auth<3,>=1.6.3->tensorboard>=2.9.1->stable_baselines3[extra]) (0.2.8)\n",
      "Requirement already satisfied: rsa<5,>=3.1.4 in /Users/canberkustaoglu/anaconda3/lib/python3.11/site-packages (from google-auth<3,>=1.6.3->tensorboard>=2.9.1->stable_baselines3[extra]) (4.9)\n",
      "Requirement already satisfied: requests-oauthlib>=0.7.0 in /Users/canberkustaoglu/anaconda3/lib/python3.11/site-packages (from google-auth-oauthlib<2,>=0.5->tensorboard>=2.9.1->stable_baselines3[extra]) (1.3.1)\n",
      "Requirement already satisfied: mdurl~=0.1 in /Users/canberkustaoglu/anaconda3/lib/python3.11/site-packages (from markdown-it-py>=2.2.0->rich->stable_baselines3[extra]) (0.1.0)\n",
      "Requirement already satisfied: charset-normalizer<4,>=2 in /Users/canberkustaoglu/anaconda3/lib/python3.11/site-packages (from requests->autorom[accept-rom-license]~=0.6.1->stable_baselines3[extra]) (2.0.4)\n",
      "Requirement already satisfied: idna<4,>=2.5 in /Users/canberkustaoglu/anaconda3/lib/python3.11/site-packages (from requests->autorom[accept-rom-license]~=0.6.1->stable_baselines3[extra]) (3.4)\n",
      "Requirement already satisfied: urllib3<3,>=1.21.1 in /Users/canberkustaoglu/anaconda3/lib/python3.11/site-packages (from requests->autorom[accept-rom-license]~=0.6.1->stable_baselines3[extra]) (1.26.16)\n",
      "Requirement already satisfied: certifi>=2017.4.17 in /Users/canberkustaoglu/anaconda3/lib/python3.11/site-packages (from requests->autorom[accept-rom-license]~=0.6.1->stable_baselines3[extra]) (2023.11.17)\n",
      "Requirement already satisfied: MarkupSafe>=2.1.1 in /Users/canberkustaoglu/anaconda3/lib/python3.11/site-packages (from werkzeug>=1.0.1->tensorboard>=2.9.1->stable_baselines3[extra]) (2.1.1)\n",
      "Requirement already satisfied: mpmath>=0.19 in /Users/canberkustaoglu/anaconda3/lib/python3.11/site-packages (from sympy->torch>=1.13->stable_baselines3[extra]) (1.3.0)\n",
      "Requirement already satisfied: pyasn1<0.5.0,>=0.4.6 in /Users/canberkustaoglu/anaconda3/lib/python3.11/site-packages (from pyasn1-modules>=0.2.1->google-auth<3,>=1.6.3->tensorboard>=2.9.1->stable_baselines3[extra]) (0.4.8)\n",
      "Requirement already satisfied: oauthlib>=3.0.0 in /Users/canberkustaoglu/anaconda3/lib/python3.11/site-packages (from requests-oauthlib>=0.7.0->google-auth-oauthlib<2,>=0.5->tensorboard>=2.9.1->stable_baselines3[extra]) (3.2.2)\n",
      "Downloading gymnasium-0.29.1-py3-none-any.whl (953 kB)\n",
      "\u001b[2K   \u001b[90m━━━━━━━━━━━━━━━━━━━━━━━━━━━━━━━━━━━━━━━━\u001b[0m \u001b[32m953.9/953.9 kB\u001b[0m \u001b[31m4.0 MB/s\u001b[0m eta \u001b[36m0:00:00\u001b[0m00:01\u001b[0m00:01\u001b[0mm\n",
      "\u001b[?25hDownloading pygame-2.5.2-cp311-cp311-macosx_11_0_arm64.whl (12.2 MB)\n",
      "\u001b[2K   \u001b[90m━━━━━━━━━━━━━━━━━━━━━━━━━━━━━━━━━━━━━━━━\u001b[0m \u001b[32m12.2/12.2 MB\u001b[0m \u001b[31m3.8 MB/s\u001b[0m eta \u001b[36m0:00:00\u001b[0m00:01\u001b[0m00:01\u001b[0m\n",
      "\u001b[?25hDownloading rich-13.7.0-py3-none-any.whl (240 kB)\n",
      "\u001b[2K   \u001b[90m━━━━━━━━━━━━━━━━━━━━━━━━━━━━━━━━━━━━━━━━\u001b[0m \u001b[32m240.6/240.6 kB\u001b[0m \u001b[31m4.7 MB/s\u001b[0m eta \u001b[36m0:00:00\u001b[0ma \u001b[36m0:00:01\u001b[0m\n",
      "\u001b[?25hDownloading stable_baselines3-2.2.1-py3-none-any.whl (181 kB)\n",
      "\u001b[2K   \u001b[90m━━━━━━━━━━━━━━━━━━━━━━━━━━━━━━━━━━━━━━━━\u001b[0m \u001b[32m181.7/181.7 kB\u001b[0m \u001b[31m8.3 MB/s\u001b[0m eta \u001b[36m0:00:00\u001b[0m\n",
      "\u001b[?25hDownloading ale_py-0.8.1-cp311-cp311-macosx_11_0_arm64.whl (1.0 MB)\n",
      "\u001b[2K   \u001b[90m━━━━━━━━━━━━━━━━━━━━━━━━━━━━━━━━━━━━━━━━\u001b[0m \u001b[32m1.0/1.0 MB\u001b[0m \u001b[31m10.4 MB/s\u001b[0m eta \u001b[36m0:00:00\u001b[0ma \u001b[36m0:00:01\u001b[0m\n",
      "\u001b[?25hUsing cached Farama_Notifications-0.0.4-py3-none-any.whl (2.5 kB)\n",
      "Downloading AutoROM-0.6.1-py3-none-any.whl (9.4 kB)\n",
      "Downloading Shimmy-1.3.0-py3-none-any.whl (37 kB)\n",
      "Downloading importlib_resources-6.1.1-py3-none-any.whl (33 kB)\n",
      "Building wheels for collected packages: AutoROM.accept-rom-license\n",
      "  Building wheel for AutoROM.accept-rom-license (pyproject.toml) ... \u001b[?25ldone\n",
      "\u001b[?25h  Created wheel for AutoROM.accept-rom-license: filename=AutoROM.accept_rom_license-0.6.1-py3-none-any.whl size=446660 sha256=a0b3fa00e767a21e44adc4899ea209b2e2226983aa25c16005a6dda5da23c4eb\n",
      "  Stored in directory: /Users/canberkustaoglu/Library/Caches/pip/wheels/bc/fc/c6/8aa657c0d2089982f2dabd110efc68c61eb49831fdb7397351\n",
      "Successfully built AutoROM.accept-rom-license\n",
      "Installing collected packages: farama-notifications, pygame, importlib-resources, gymnasium, shimmy, rich, AutoROM.accept-rom-license, autorom, ale-py, stable_baselines3\n",
      "Successfully installed AutoROM.accept-rom-license-0.6.1 ale-py-0.8.1 autorom-0.6.1 farama-notifications-0.0.4 gymnasium-0.29.1 importlib-resources-6.1.1 pygame-2.5.2 rich-13.7.0 shimmy-1.3.0 stable_baselines3-2.2.1\n"
     ]
    }
   ],
   "source": [
    "!pip install stable_baselines3\\[extra\\]"
   ]
  },
  {
   "cell_type": "code",
   "execution_count": 11,
   "id": "e3a1605a",
   "metadata": {},
   "outputs": [],
   "source": [
    "import gym \n",
    "from stable_baselines3 import PPO\n",
    "from stable_baselines3.common.vec_env import DummyVecEnv\n",
    "from stable_baselines3.common.evaluation import evaluate_policy"
   ]
  },
  {
   "cell_type": "code",
   "execution_count": 23,
   "id": "1013d524",
   "metadata": {},
   "outputs": [
    {
     "name": "stderr",
     "output_type": "stream",
     "text": [
      "/Users/canberkustaoglu/anaconda3/lib/python3.11/site-packages/gym/envs/registration.py:555: UserWarning: \u001b[33mWARN: The environment CartPole-v0 is out of date. You should consider upgrading to version `v1`.\u001b[0m\n",
      "  logger.warn(\n"
     ]
    }
   ],
   "source": [
    "# Load the environment\n",
    "environment_name = \"CartPole-v0\"\n",
    "env = gym.make(environment_name)"
   ]
  },
  {
   "cell_type": "code",
   "execution_count": 24,
   "id": "b88e3d0f",
   "metadata": {},
   "outputs": [
    {
     "data": {
      "text/plain": [
       "'CartPole-v0'"
      ]
     },
     "execution_count": 24,
     "metadata": {},
     "output_type": "execute_result"
    }
   ],
   "source": [
    "environment_name"
   ]
  },
  {
   "cell_type": "code",
   "execution_count": 26,
   "id": "a1b6489f",
   "metadata": {},
   "outputs": [
    {
     "ename": "ValueError",
     "evalue": "too many values to unpack (expected 4)",
     "output_type": "error",
     "traceback": [
      "\u001b[0;31m---------------------------------------------------------------------------\u001b[0m",
      "\u001b[0;31mValueError\u001b[0m                                Traceback (most recent call last)",
      "Cell \u001b[0;32mIn[26], line 10\u001b[0m\n\u001b[1;32m      8\u001b[0m     env\u001b[38;5;241m.\u001b[39mrender()\n\u001b[1;32m      9\u001b[0m     action \u001b[38;5;241m=\u001b[39m env\u001b[38;5;241m.\u001b[39maction_space\u001b[38;5;241m.\u001b[39msample()\n\u001b[0;32m---> 10\u001b[0m     n_state, reward, done, info \u001b[38;5;241m=\u001b[39m env\u001b[38;5;241m.\u001b[39mstep(action)\n\u001b[1;32m     11\u001b[0m     score\u001b[38;5;241m+\u001b[39m\u001b[38;5;241m=\u001b[39mreward\n\u001b[1;32m     12\u001b[0m \u001b[38;5;28mprint\u001b[39m(\u001b[38;5;124m'\u001b[39m\u001b[38;5;124mEpisode:\u001b[39m\u001b[38;5;132;01m{}\u001b[39;00m\u001b[38;5;124m Score:\u001b[39m\u001b[38;5;132;01m{}\u001b[39;00m\u001b[38;5;124m'\u001b[39m\u001b[38;5;241m.\u001b[39mformat(episode, score))\n",
      "\u001b[0;31mValueError\u001b[0m: too many values to unpack (expected 4)"
     ]
    }
   ],
   "source": [
    "episodes = 5\n",
    "for episode in range(1, episodes+1):\n",
    "    state = env.reset()\n",
    "    done = False\n",
    "    score = 0 \n",
    "    \n",
    "    while not done:\n",
    "        env.render()\n",
    "        action = env.action_space.sample()\n",
    "        n_state, reward, done, info = env.step(action)\n",
    "        score+=reward\n",
    "    print('Episode:{} Score:{}'.format(episode, score))\n",
    "env.close()"
   ]
  }
 ],
 "metadata": {
  "kernelspec": {
   "display_name": "Python 3 (ipykernel)",
   "language": "python",
   "name": "python3"
  },
  "language_info": {
   "codemirror_mode": {
    "name": "ipython",
    "version": 3
   },
   "file_extension": ".py",
   "mimetype": "text/x-python",
   "name": "python",
   "nbconvert_exporter": "python",
   "pygments_lexer": "ipython3",
   "version": "3.11.5"
  }
 },
 "nbformat": 4,
 "nbformat_minor": 5
}
